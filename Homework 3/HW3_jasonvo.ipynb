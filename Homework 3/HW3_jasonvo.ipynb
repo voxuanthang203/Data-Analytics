{
 "cells": [
  {
   "cell_type": "code",
   "execution_count": 1,
   "metadata": {},
   "outputs": [],
   "source": [
    "import numpy as np\n",
    "import matplotlib.pyplot as plt\n",
    "import pandas as pd\n",
    "from sklearn.linear_model import LogisticRegression as LR\n",
    "from sklearn.neighbors import KNeighborsClassifier as KNN\n",
    "from sklearn.discriminant_analysis import LinearDiscriminantAnalysis as LDA\n",
    "from sklearn.svm import SVC\n",
    "from sklearn.tree import DecisionTreeClassifier as DTC\n",
    "from sklearn.tree import export_graphviz\n",
    "from sklearn.ensemble import AdaBoostClassifier as ADAB\n",
    "from xgboost import XGBClassifier as xgb\n",
    "from sklearn.ensemble import RandomForestClassifier as RFC\n",
    "from sklearn.model_selection import train_test_split\n",
    "import graphviz"
   ]
  },
  {
   "cell_type": "code",
   "execution_count": 2,
   "metadata": {},
   "outputs": [],
   "source": [
    "# Load data\n",
    "df = pd.read_csv('breast-cancer-wisconsin.csv', header=None)\n",
    "X = df.iloc[:, 1:10].values\n",
    "y = df.iloc[:, -1].values / 2 - 1\n",
    "y = y.astype(int)\n",
    "\n",
    "# Split data into training and test sets\n",
    "X_train, X_test, y_train, y_test = train_test_split(X, y, train_size=400, shuffle=False)"
   ]
  },
  {
   "cell_type": "code",
   "execution_count": 3,
   "metadata": {},
   "outputs": [],
   "source": [
    "# part g\n",
    "def weighted_cost(y_hat):\n",
    "    cost = 0\n",
    "    for i in range(0,282):\n",
    "        if y_test[i]==0 and y_hat[i]==1:\n",
    "            cost = cost+1\n",
    "        elif y_test[i]==1 and y_hat[i]==0:\n",
    "            cost = cost+100\n",
    "    return cost/6916"
   ]
  },
  {
   "attachments": {},
   "cell_type": "markdown",
   "metadata": {},
   "source": [
    "a) Part a"
   ]
  },
  {
   "cell_type": "code",
   "execution_count": 4,
   "metadata": {},
   "outputs": [],
   "source": [
    "# Fit logistic regression model to the training data\n",
    "logreg = LR(max_iter=10000)\n",
    "logreg.fit(X_train, y_train)\n",
    "\n",
    "# Predict labels of test data\n",
    "y_pred = logreg.predict(X_test)"
   ]
  },
  {
   "cell_type": "code",
   "execution_count": 5,
   "metadata": {},
   "outputs": [
    {
     "name": "stdout",
     "output_type": "stream",
     "text": [
      "Misclassification rate: 0.01060070671378092\n",
      "RMS margin: 0.4783418582500243\n"
     ]
    }
   ],
   "source": [
    "# Calculate misclassification rate\n",
    "misclassification_rate = np.sum(y_test != y_pred) / len(y_test)\n",
    "print(\"Misclassification rate:\", misclassification_rate)\n",
    "\n",
    "# Calculate RMS margin around the decision probability 0.5\n",
    "y_prob = logreg.predict_proba(X_test)[:, 1]  # probability of class 1\n",
    "correct_indices = np.where(y_test == y_pred)[0]  # indices of correctly classified instances\n",
    "p_correct = y_prob[correct_indices]  # probabilities of correctly classified instances\n",
    "Mc = len(correct_indices)  # number of correctly classified instances\n",
    "RMS = np.sqrt(np.sum((p_correct - 0.5) ** 2) / Mc)\n",
    "print(\"RMS margin:\", RMS)"
   ]
  },
  {
   "cell_type": "code",
   "execution_count": 6,
   "metadata": {},
   "outputs": [
    {
     "name": "stdout",
     "output_type": "stream",
     "text": [
      "Weighted cost for logistic regression: 0.014748409485251591\n"
     ]
    }
   ],
   "source": [
    "#part g\n",
    "# Calculate weighted misclassification rate\n",
    "weighted_misclassification_rate = weighted_cost(y_pred)\n",
    "print(\"Weighted cost for logistic regression:\", weighted_misclassification_rate)"
   ]
  },
  {
   "attachments": {},
   "cell_type": "markdown",
   "metadata": {},
   "source": [
    "b) Part b"
   ]
  },
  {
   "cell_type": "code",
   "execution_count": 7,
   "metadata": {},
   "outputs": [],
   "source": [
    "# Initialize list to store misclassification rates\n",
    "misclassification_rates = []\n",
    "weighted_misclassification_rates = []"
   ]
  },
  {
   "cell_type": "code",
   "execution_count": 8,
   "metadata": {},
   "outputs": [],
   "source": [
    "# Try k = 1, 2, ..., 10\n",
    "for k in range(1, 11):\n",
    "    # Fit kNN classifier to the training data\n",
    "    knn = KNN(n_neighbors=k)\n",
    "    knn.fit(X_train, y_train)\n",
    "    \n",
    "    # Predict labels of test data\n",
    "    y_pred = knn.predict(X_test)\n",
    "    \n",
    "    # Calculate misclassification rate\n",
    "    misclassification_rate = np.sum(y_test != y_pred) / len(y_test)\n",
    "    misclassification_rates.append(misclassification_rate)\n",
    "\n",
    "    # Calculate weighted misclassification rate\n",
    "    weighted_misclassification_rate = weighted_cost(y_pred)\n",
    "    weighted_misclassification_rates.append(weighted_misclassification_rate)"
   ]
  },
  {
   "cell_type": "code",
   "execution_count": 9,
   "metadata": {},
   "outputs": [
    {
     "data": {
      "image/png": "[encoded data removed]",
      "text/plain": [
       "<Figure size 432x288 with 1 Axes>"
      ]
     },
     "metadata": {
      "needs_background": "light"
     },
     "output_type": "display_data"
    }
   ],
   "source": [
    "# Plot misclassification rate as a function of k\n",
    "k_values = range(1, 11)\n",
    "plt.plot(k_values, misclassification_rates, 'o-')\n",
    "plt.xlabel('Number of neighbors (k)')\n",
    "plt.ylabel('Misclassification rate')\n",
    "plt.title('kNN classifier')\n",
    "plt.show()"
   ]
  },
  {
   "cell_type": "code",
   "execution_count": 10,
   "metadata": {},
   "outputs": [
    {
     "name": "stdout",
     "output_type": "stream",
     "text": [
      "Misclassification rate for KNN with 1 neighbor: 0.0176678445229682\n",
      "Misclassification rate for KNN with 2 neighbor: 0.028268551236749116\n",
      "Misclassification rate for KNN with 3 neighbor: 0.014134275618374558\n",
      "Misclassification rate for KNN with 4 neighbor: 0.0176678445229682\n",
      "Misclassification rate for KNN with 5 neighbor: 0.0176678445229682\n",
      "Misclassification rate for KNN with 6 neighbor: 0.01060070671378092\n",
      "Misclassification rate for KNN with 7 neighbor: 0.014134275618374558\n",
      "Misclassification rate for KNN with 8 neighbor: 0.01060070671378092\n",
      "Misclassification rate for KNN with 9 neighbor: 0.01060070671378092\n",
      "Misclassification rate for KNN with 10 neighbor: 0.01060070671378092\n",
      "Weighted cost for KNN with 1 neighbor: 0.015037593984962405\n",
      "Weighted cost for KNN with 2 neighbor: 0.08704453441295547\n",
      "Weighted cost for KNN with 3 neighbor: 0.000578368999421631\n",
      "Weighted cost for KNN with 4 neighbor: 0.029352226720647773\n",
      "Weighted cost for KNN with 5 neighbor: 0.015037593984962405\n",
      "Weighted cost for KNN with 6 neighbor: 0.014748409485251591\n",
      "Weighted cost for KNN with 7 neighbor: 0.014893001735106999\n",
      "Weighted cost for KNN with 8 neighbor: 0.014748409485251591\n",
      "Weighted cost for KNN with 9 neighbor: 0.014748409485251591\n",
      "Weighted cost for KNN with 10 neighbor: 0.014748409485251591\n"
     ]
    }
   ],
   "source": [
    "#part g\n",
    "k = 1\n",
    "for i in misclassification_rates:\n",
    "    print('Misclassification rate for KNN with', k, 'neighbor:', i)\n",
    "    k += 1\n",
    "k = 1\n",
    "for i in weighted_misclassification_rates:\n",
    "    print('Weighted cost for KNN with', k, 'neighbor:', i)\n",
    "    k += 1"
   ]
  },
  {
   "attachments": {},
   "cell_type": "markdown",
   "metadata": {},
   "source": [
    "c) Part c"
   ]
  },
  {
   "cell_type": "code",
   "execution_count": 11,
   "metadata": {},
   "outputs": [],
   "source": [
    "# Fit LDA model to the training data\n",
    "lda = LDA()\n",
    "lda.fit(X_train, y_train)\n",
    "\n",
    "# Predict labels of test data\n",
    "y_pred = lda.predict(X_test)"
   ]
  },
  {
   "cell_type": "code",
   "execution_count": 12,
   "metadata": {},
   "outputs": [
    {
     "name": "stdout",
     "output_type": "stream",
     "text": [
      "Misclassification rate: 0.01060070671378092\n",
      "Weighted cost for linear discriminant analysis: 0.05798149219201851\n"
     ]
    }
   ],
   "source": [
    "# Calculate weighted misclassification rate\n",
    "weighted_misclassification_rate = weighted_cost(y_pred)\n",
    "\n",
    "print('Misclassification rate:', misclassification_rate)\n",
    "print('Weighted cost for linear discriminant analysis:', weighted_misclassification_rate)"
   ]
  },
  {
   "attachments": {},
   "cell_type": "markdown",
   "metadata": {},
   "source": [
    "d) Part d"
   ]
  },
  {
   "cell_type": "code",
   "execution_count": 13,
   "metadata": {},
   "outputs": [],
   "source": [
    "# Fit SVM models to the training data\n",
    "kernels = ['linear', 'poly', 'poly', 'poly', 'poly', 'rbf', 'sigmoid']\n",
    "degrees = [0, 2, 3, 4, 5, 0, 0]  # degrees for poly kernel\n",
    "misclassification_rates = []\n",
    "rms_values = []\n",
    "weighted_costs = []"
   ]
  },
  {
   "cell_type": "code",
   "execution_count": 14,
   "metadata": {},
   "outputs": [
    {
     "name": "stdout",
     "output_type": "stream",
     "text": [
      "Kernel: linear, Degree: 0, Misclassification rate: 0.0141, RMS value: 0.4568, Weighted cost: 0.0149\n",
      "Kernel: poly, Degree: 2, Misclassification rate: 0.0106, RMS value: 0.4554, Weighted cost: 0.0147\n",
      "Kernel: poly, Degree: 3, Misclassification rate: 0.0106, RMS value: 0.4414, Weighted cost: 0.0291\n",
      "Kernel: poly, Degree: 4, Misclassification rate: 0.0353, RMS value: 0.4279, Weighted cost: 0.1016\n",
      "Kernel: poly, Degree: 5, Misclassification rate: 0.0353, RMS value: 0.3772, Weighted cost: 0.1016\n",
      "Kernel: rbf, Degree: 0, Misclassification rate: 0.0177, RMS value: 0.4742, Weighted cost: 0.0150\n",
      "Kernel: sigmoid, Degree: 0, Misclassification rate: 0.8375, RMS value: 0.3643, Weighted cost: 0.9789\n"
     ]
    }
   ],
   "source": [
    "for i, kernel in enumerate(kernels):\n",
    "    degree = degrees[i]\n",
    "    svm = SVC(kernel=kernel, degree=degree, probability=True)\n",
    "    svm.fit(X_train, y_train)\n",
    "    \n",
    "    # Predict labels of test data\n",
    "    y_pred_svm = svm.predict(X_test)\n",
    "    \n",
    "    # Calculate misclassification rate\n",
    "    misclassification_rate = np.sum(y_test != y_pred_svm) / len(y_test)\n",
    "    misclassification_rates.append(misclassification_rate)\n",
    "    \n",
    "    # Calculate RMS value for correctly classified instances\n",
    "    correct_indices = np.where(y_test == y_pred_svm)[0]\n",
    "    pi = svm.predict_proba(X_test[correct_indices])[:, 1]\n",
    "    mc = len(correct_indices)\n",
    "    rms = np.sqrt(np.sum((pi - 0.5) ** 2) / mc)\n",
    "    rms_values.append(rms)\n",
    "\n",
    "    # Calculate weighted cost\n",
    "    weighted_cost_value = weighted_cost(y_pred_svm)\n",
    "    weighted_costs.append(weighted_cost_value)\n",
    "    \n",
    "    print(f'Kernel: {kernel}, Degree: {degree}, Misclassification rate: {misclassification_rate:.4f}, RMS value: {rms:.4f}, Weighted cost: {weighted_cost_value:.4f}')"
   ]
  },
  {
   "attachments": {},
   "cell_type": "markdown",
   "metadata": {},
   "source": [
    "e) Part e"
   ]
  },
  {
   "cell_type": "code",
   "execution_count": 15,
   "metadata": {},
   "outputs": [
    {
     "name": "stdout",
     "output_type": "stream",
     "text": [
      "Max depth: 3, Misclassification rate: 0.0353, Weighted cost: 0.0873\n",
      "Max depth: 4, Misclassification rate: 0.0247, Weighted cost: 0.0583\n",
      "Max depth: 5, Misclassification rate: 0.0601, Weighted cost: 0.1598\n",
      "Max depth: 6, Misclassification rate: 0.0495, Weighted cost: 0.1164\n",
      "Max depth: 7, Misclassification rate: 0.0530, Weighted cost: 0.1309\n",
      "Max depth: 8, Misclassification rate: 0.0459, Weighted cost: 0.1163\n",
      "Max depth: 9, Misclassification rate: 0.0495, Weighted cost: 0.1164\n",
      "Max depth: 10, Misclassification rate: 0.0530, Weighted cost: 0.1309\n"
     ]
    },
    {
     "data": {
      "image/png": "[encoded data removed]",
      "text/plain": [
       "<Figure size 432x288 with 1 Axes>"
      ]
     },
     "metadata": {
      "needs_background": "light"
     },
     "output_type": "display_data"
    },
    {
     "data": {
      "image/png": "[encoded data removed]",
      "text/plain": [
       "<Figure size 432x288 with 1 Axes>"
      ]
     },
     "metadata": {
      "needs_background": "light"
     },
     "output_type": "display_data"
    }
   ],
   "source": [
    "from sklearn.tree import DecisionTreeClassifier, plot_tree\n",
    "\n",
    "# Define maximum tree depths to test\n",
    "max_depths = range(3, 11)\n",
    "\n",
    "# Initialize arrays to store misclassification rates and decision trees\n",
    "misclassification_rates = np.zeros(len(max_depths))\n",
    "weighted_costs = np.zeros(len(max_depths))\n",
    "trees = {}\n",
    "\n",
    "# Train a decision tree classifier for each maximum depth and calculate misclassification rate\n",
    "for i, max_depth in enumerate(max_depths):\n",
    "    dtc = DecisionTreeClassifier(max_depth=max_depth)\n",
    "    dtc.fit(X_train, y_train)\n",
    "    y_pred = dtc.predict(X_test)\n",
    "    misclassification_rate = np.sum(y_pred != y_test) / len(y_test)\n",
    "    misclassification_rates[i] = misclassification_rate\n",
    "    weighted_cost_value = weighted_cost(y_pred)\n",
    "    weighted_costs[i] = weighted_cost_value\n",
    "    if max_depth == 5:\n",
    "        trees[max_depth] = dtc\n",
    "    print(f\"Max depth: {max_depth}, Misclassification rate: {misclassification_rate:.4f}, Weighted cost: {weighted_cost_value:.4f}\")\n",
    "\n",
    "# Plot misclassification rate and weighted cost as a function of maximum tree depth\n",
    "fig, ax = plt.subplots()\n",
    "ax.plot(max_depths, misclassification_rates, marker='o', label='Misclassification rate')\n",
    "ax.plot(max_depths, weighted_costs, marker='o', label='Weighted cost')\n",
    "ax.set_xlabel('Maximum tree depth')\n",
    "ax.set_ylabel('Error rate')\n",
    "ax.set_title('Error rate vs Maximum tree depth')\n",
    "ax.legend()\n",
    "plt.show()\n",
    "\n",
    "# Visualize the decision rule of the tree with maximum depth 5\n",
    "plot_tree(trees[5], filled=True, feature_names=df.columns[1:-1], class_names=['Healthy', 'Sick'])\n",
    "plt.show()\n"
   ]
  },
  {
   "attachments": {},
   "cell_type": "markdown",
   "metadata": {},
   "source": [
    "f) Part f"
   ]
  },
  {
   "cell_type": "code",
   "execution_count": 16,
   "metadata": {},
   "outputs": [
    {
     "name": "stdout",
     "output_type": "stream",
     "text": [
      "AdaBoost Classifier\n",
      "Number of learners: 100, Misclassification rate: 0.0389, Weighted cost: 0.0873\n",
      "Number of learners: 200, Misclassification rate: 0.0389, Weighted cost: 0.0873\n",
      "Number of learners: 300, Misclassification rate: 0.0495, Weighted cost: 0.1307\n",
      "Number of learners: 400, Misclassification rate: 0.0389, Weighted cost: 0.0873\n",
      "Number of learners: 500, Misclassification rate: 0.0424, Weighted cost: 0.1018\n",
      "\n",
      "XGBoost Classifier\n",
      "Number of learners: 100, Misclassification rate: 0.0212, Weighted cost: 0.0152\n",
      "Number of learners: 200, Misclassification rate: 0.0212, Weighted cost: 0.0152\n",
      "Number of learners: 300, Misclassification rate: 0.0212, Weighted cost: 0.0152\n",
      "Number of learners: 400, Misclassification rate: 0.0212, Weighted cost: 0.0152\n",
      "Number of learners: 500, Misclassification rate: 0.0212, Weighted cost: 0.0152\n",
      "\n",
      "Random Forest Classifier\n",
      "Number of learners: 100, Misclassification rate: 0.0106, Weighted cost: 0.0147\n",
      "Number of learners: 200, Misclassification rate: 0.0141, Weighted cost: 0.0149\n",
      "Number of learners: 300, Misclassification rate: 0.0106, Weighted cost: 0.0147\n",
      "Number of learners: 400, Misclassification rate: 0.0106, Weighted cost: 0.0147\n",
      "Number of learners: 500, Misclassification rate: 0.0106, Weighted cost: 0.0147\n"
     ]
    }
   ],
   "source": [
    "from sklearn.ensemble import AdaBoostClassifier, RandomForestClassifier\n",
    "from xgboost import XGBClassifier\n",
    "\n",
    "n_learners = [100, 200, 300, 400, 500]\n",
    "\n",
    "# AdaBoost\n",
    "print(\"AdaBoost Classifier\")\n",
    "misclassification_rates = []\n",
    "weighted_costs = []\n",
    "for n in n_learners:\n",
    "    clf = AdaBoostClassifier(n_estimators=n, random_state=0)\n",
    "    clf.fit(X_train, y_train)\n",
    "    y_pred = clf.predict(X_test)\n",
    "    misclassification_rate = np.sum(y_pred != y_test) / len(y_test)\n",
    "    misclassification_rates.append(misclassification_rate)\n",
    "    weighted_cost_val = weighted_cost(y_pred)\n",
    "    weighted_costs.append(weighted_cost_val)\n",
    "    print(f\"Number of learners: {n}, Misclassification rate: {misclassification_rate:.4f}, Weighted cost: {weighted_cost_val:.4f}\")\n",
    "\n",
    "# XGBoost\n",
    "print(\"\\nXGBoost Classifier\")\n",
    "misclassification_rates = []\n",
    "weighted_costs = []\n",
    "for n in n_learners:\n",
    "    clf = XGBClassifier(n_estimators=n, random_state=0)\n",
    "    clf.fit(X_train, y_train)\n",
    "    y_pred = clf.predict(X_test)\n",
    "    misclassification_rate = np.sum(y_pred != y_test) / len(y_test)\n",
    "    misclassification_rates.append(misclassification_rate)\n",
    "    weighted_cost_val = weighted_cost(y_pred)\n",
    "    weighted_costs.append(weighted_cost_val)\n",
    "    print(f\"Number of learners: {n}, Misclassification rate: {misclassification_rate:.4f}, Weighted cost: {weighted_cost_val:.4f}\")\n",
    "\n",
    "# Random Forest\n",
    "print(\"\\nRandom Forest Classifier\")\n",
    "misclassification_rates = []\n",
    "weighted_costs = []\n",
    "for n in n_learners:\n",
    "    clf = RandomForestClassifier(n_estimators=n, random_state=0)\n",
    "    clf.fit(X_train, y_train)\n",
    "    y_pred = clf.predict(X_test)\n",
    "    misclassification_rate = np.sum(y_pred != y_test) / len(y_test)\n",
    "    misclassification_rates.append(misclassification_rate)\n",
    "    weighted_cost_val = weighted_cost(y_pred)\n",
    "    weighted_costs.append(weighted_cost_val)\n",
    "    print(f\"Number of learners: {n}, Misclassification rate: {misclassification_rate:.4f}, Weighted cost: {weighted_cost_val:.4f}\")\n"
   ]
  },
  {
   "attachments": {},
   "cell_type": "markdown",
   "metadata": {},
   "source": [
    "g) Part g"
   ]
  },
  {
   "attachments": {},
   "cell_type": "markdown",
   "metadata": {},
   "source": [
    "To evaluate which algorithm is the best in terms of misclassification rate and the considered weighted cost, we need to compare the performance of each algorithm.\n",
    "\n",
    "Looking at the given data, we can see that Logistic Regression has the lowest misclassification rate of 0.0106, which means that it has the highest accuracy among all the given algorithms. Additionally, the weighted cost for Logistic Regression is also the lowest at 0.0147, which means that it is the most cost-effective algorithm among all the given ones.\n",
    "\n",
    "KNN has varying misclassification rates depending on the number of neighbors used. The lowest misclassification rate for KNN is 0.0106, which is the same as the one for Logistic Regression. However, the weighted costs for KNN are higher than the weighted cost for Logistic Regression. KNN with three neighbors has the lowest weighted cost of 0.0006, but its misclassification rate of 0.0141 is slightly higher than the misclassification rate of 0.0106 for Logistic Regression.\n",
    "\n",
    "LDA has the same misclassification rate as Logistic Regression and KNN with three neighbors. However, its weighted cost is much higher than the other two algorithms, making it less cost-effective.\n",
    "\n",
    "SVM has varying misclassification rates and weighted costs depending on the kernel and degree used. The linear kernel with degree 0 has a misclassification rate of 0.0141 and a weighted cost of 0.0149, which are comparable to the values for Logistic Regression. The poly kernel with degree 2 also has a misclassification rate of 0.0106 and a weighted cost of 0.0147, which are the same as the values for Logistic Regression. The other kernels and degrees have higher misclassification rates and weighted costs, making them less desirable.\n",
    "\n",
    "Decision Tree has varying misclassification rates and weighted costs depending on the maximum depth of the tree. The misclassification rates for Decision Tree are higher than the ones for Logistic Regression, KNN with three neighbors, and LDA. The weighted costs for Decision Tree are also higher than the weighted costs for Logistic Regression and KNN with three neighbors, making it less cost-effective.\n",
    "\n",
    "AdaBoost has a misclassification rate of 0.0389 for most of the number of learners, which is higher than the misclassification rate for Logistic Regression, KNN with three neighbors, and LDA. The weighted costs for AdaBoost are also higher than the weighted costs for Logistic Regression and KNN with three neighbors, making it less cost-effective.\n",
    "\n",
    "XGBoost has a misclassification rate of 0.0212 and a weighted cost of 0.0152, which are comparable to the values for Logistic Regression. Therefore, XGBoost can be considered the best algorithm in terms of misclassification rate and the considered weighted cost.\n",
    "\n",
    "In summary, based on the given data, Logistic Regression, KNN with three neighbors, and XGBoost are the best algorithms in terms of misclassification rate and the considered weighted cost. However, XGBoost has the lowest weighted cost and can be considered the best algorithm among the given ones."
   ]
  }
 ],
 "metadata": {
  "kernelspec": {
   "display_name": "Python 3",
   "language": "python",
   "name": "python3"
  },
  "language_info": {
   "codemirror_mode": {
    "name": "ipython",
    "version": 3
   },
   "file_extension": ".py",
   "mimetype": "text/x-python",
   "name": "python",
   "nbconvert_exporter": "python",
   "pygments_lexer": "ipython3",
   "version": "3.10.4"
  },
  "orig_nbformat": 4
 },
 "nbformat": 4,
 "nbformat_minor": 2
}
