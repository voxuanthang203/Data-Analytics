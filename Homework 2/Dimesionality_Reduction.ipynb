{
 "cells": [
  {
   "attachments": {},
   "cell_type": "markdown",
   "metadata": {},
   "source": [
    "### 1 Dimensional Reduction with PCA"
   ]
  },
  {
   "attachments": {},
   "cell_type": "markdown",
   "metadata": {},
   "source": [
    "a) Procedure:\n",
    "* Compute the sample mean and **covariance** S\n",
    "* Compute first few eigenvectors of the sample covariance (new coordinate)\n",
    "\n",
    "    $ u_1,...,u_m$ where $M \\ll D$\n",
    "* Project data points onto the new coordinates to obtain lower dimensional representations\n",
    "\n",
    "    $ {\\~{x}}_{n1} = {u^{T}_1}{x_n} $\n",
    "    \n",
    "    $ {\\~{x}}_{n} $ $\\in {\\mathbb{R}}^{M}$ vs. $ x_n $ $ \\in {\\mathbb{R}}^{D} $"
   ]
  },
  {
   "attachments": {},
   "cell_type": "markdown",
   "metadata": {},
   "source": [
    "b)"
   ]
  },
  {
   "cell_type": "code",
   "execution_count": 1,
   "metadata": {},
   "outputs": [],
   "source": [
    "#import required libraries\n",
    "import numpy as np\n",
    "import pandas as pd\n",
    "from sklearn.decomposition import PCA\n",
    "from sklearn.preprocessing import StandardScaler\n",
    "import matplotlib.pyplot as plt"
   ]
  },
  {
   "cell_type": "code",
   "execution_count": 2,
   "metadata": {},
   "outputs": [],
   "source": [
    "# importing or loading the dataset\n",
    "df = pd.read_csv('url-data.txt')\n",
    "X = df.iloc[:,1:].values\n"
   ]
  },
  {
   "cell_type": "code",
   "execution_count": 3,
   "metadata": {},
   "outputs": [],
   "source": [
    "# scaled the dataset\n",
    "X_sc = StandardScaler().fit_transform(X)"
   ]
  },
  {
   "cell_type": "code",
   "execution_count": 4,
   "metadata": {},
   "outputs": [
    {
     "data": {
      "text/plain": [
       "array([[-0.65466981, -0.5912059 ,  0.08517171, ..., -0.12874791,\n",
       "        -0.16518144, -0.04476615],\n",
       "       [ 1.71777468, -0.10030701,  1.13667433, ..., -0.21184327,\n",
       "        -0.16518144, -0.04476615],\n",
       "       [-0.21764057,  0.71785781, -0.96633091, ..., -0.23954172,\n",
       "        -0.16518144, -0.04476615],\n",
       "       ...,\n",
       "       [-0.46737157, -0.10030701,  0.08517171, ..., -0.23954172,\n",
       "        -0.16518144, -0.04476615],\n",
       "       [-0.90440081, -1.08210479, -0.96633091, ..., -0.23954172,\n",
       "        -0.16518144, -0.04476615],\n",
       "       [-0.34250607,  0.22695892,  0.08517171, ..., -0.20261045,\n",
       "        -0.16518144, -0.04476615]])"
      ]
     },
     "execution_count": 4,
     "metadata": {},
     "output_type": "execute_result"
    }
   ],
   "source": [
    "X_sc"
   ]
  },
  {
   "cell_type": "code",
   "execution_count": 5,
   "metadata": {},
   "outputs": [],
   "source": [
    "# %% Apply PCA\n",
    "pca = PCA(n_components=64)\n",
    "principalComponents_sc = pca.fit_transform(X_sc)\n",
    "eigenvalues = pca.explained_variance_\n",
    "variance = pca.explained_variance_ratio_"
   ]
  },
  {
   "cell_type": "code",
   "execution_count": 6,
   "metadata": {},
   "outputs": [
    {
     "data": {
      "text/plain": [
       "array([2.09718209e-01, 1.62187440e-01, 1.00293600e-01, 5.75178919e-02,\n",
       "       5.64104121e-02, 4.94719845e-02, 4.62247327e-02, 4.15148628e-02,\n",
       "       3.50782853e-02, 2.61653772e-02, 2.53871782e-02, 2.25283807e-02,\n",
       "       1.82678514e-02, 1.80924284e-02, 1.41391248e-02, 1.32553472e-02,\n",
       "       1.27190041e-02, 1.18195690e-02, 1.12062129e-02, 9.23924888e-03,\n",
       "       8.55045544e-03, 7.80587291e-03, 6.88283285e-03, 6.67642002e-03,\n",
       "       5.25645583e-03, 4.90364174e-03, 4.32010750e-03, 3.70015570e-03,\n",
       "       3.53175659e-03, 2.67358125e-03, 1.53349027e-03, 1.16725876e-03,\n",
       "       7.70470318e-04, 3.20797051e-04, 3.03328910e-04, 2.14347689e-04,\n",
       "       1.51886015e-04, 4.13596240e-32, 1.77684275e-32, 3.66707642e-33,\n",
       "       3.19302059e-33, 9.09966822e-34, 9.09966822e-34, 9.09966822e-34,\n",
       "       9.09966822e-34, 9.09966822e-34, 9.09966822e-34, 9.09966822e-34,\n",
       "       9.09966822e-34, 9.09966822e-34, 9.09966822e-34, 9.09966822e-34,\n",
       "       9.09966822e-34, 9.09966822e-34, 9.09966822e-34, 9.09966822e-34,\n",
       "       9.09966822e-34, 9.09966822e-34, 9.09966822e-34, 9.09966822e-34,\n",
       "       9.09966822e-34, 7.50386724e-34, 4.57253658e-34, 4.52603266e-34])"
      ]
     },
     "execution_count": 6,
     "metadata": {},
     "output_type": "execute_result"
    }
   ],
   "source": [
    "variance"
   ]
  },
  {
   "cell_type": "code",
   "execution_count": 7,
   "metadata": {},
   "outputs": [],
   "source": [
    "#function to find the minimum number of principal components that maintain % of the variance\n",
    "def minimum_principal_components(arr, percentage):\n",
    "    sum_variance = 0.0\n",
    "    num_principal_components = 0\n",
    "    for i in range (0, len(arr)):\n",
    "        sum_variance += arr[i]\n",
    "        if sum_variance < percentage:\n",
    "            num_principal_components += 1\n",
    "        else:\n",
    "            print('Total variance: ', sum_variance)\n",
    "            num_principal_components += 1\n",
    "            print('Number of principal components: ', num_principal_components)\n",
    "            return num_principal_components"
   ]
  },
  {
   "attachments": {},
   "cell_type": "markdown",
   "metadata": {},
   "source": [
    "The minimum number of principal components that maintain 95% of the variance:"
   ]
  },
  {
   "cell_type": "code",
   "execution_count": 8,
   "metadata": {},
   "outputs": [
    {
     "name": "stdout",
     "output_type": "stream",
     "text": [
      "Total variance:  0.957593469505552\n",
      "Number of principal components:  22\n"
     ]
    }
   ],
   "source": [
    "num_95 = minimum_principal_components(variance, 0.95)"
   ]
  },
  {
   "attachments": {},
   "cell_type": "markdown",
   "metadata": {},
   "source": [
    "The minimum number of principal components that maintain 99% of the variance:"
   ]
  },
  {
   "cell_type": "code",
   "execution_count": 9,
   "metadata": {},
   "outputs": [
    {
     "name": "stdout",
     "output_type": "stream",
     "text": [
      "Total variance:  0.9928648397364542\n",
      "Number of principal components:  29\n"
     ]
    }
   ],
   "source": [
    "num_99 = minimum_principal_components(variance, 0.99)"
   ]
  },
  {
   "attachments": {},
   "cell_type": "markdown",
   "metadata": {},
   "source": [
    "c)"
   ]
  },
  {
   "cell_type": "code",
   "execution_count": 10,
   "metadata": {},
   "outputs": [
    {
     "data": {
      "image/png": "[encoded data removed]",
      "text/plain": [
       "<Figure size 432x288 with 1 Axes>"
      ]
     },
     "metadata": {
      "needs_background": "light"
     },
     "output_type": "display_data"
    }
   ],
   "source": [
    "plt.plot(np.arange(1, len(eigenvalues) + 1), eigenvalues, 'bo-', linewidth=2)\n",
    "plt.xlabel('Principal Component')\n",
    "plt.ylabel('Eigenvalue')\n",
    "plt.title('Scree Plot for Eigenvalues')\n",
    "plt.show()"
   ]
  }
 ],
 "metadata": {
  "kernelspec": {
   "display_name": "Python 3",
   "language": "python",
   "name": "python3"
  },
  "language_info": {
   "codemirror_mode": {
    "name": "ipython",
    "version": 3
   },
   "file_extension": ".py",
   "mimetype": "text/x-python",
   "name": "python",
   "nbconvert_exporter": "python",
   "pygments_lexer": "ipython3",
   "version": "3.10.4"
  },
  "orig_nbformat": 4,
  "vscode": {
   "interpreter": {
    "hash": "214376a8b65419213232f8888cfa27824ab1c5f7ca8718c504dea60fd46357b1"
   }
  }
 },
 "nbformat": 4,
 "nbformat_minor": 2
}
