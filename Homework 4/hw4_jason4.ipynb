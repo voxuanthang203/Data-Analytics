{
 "cells": [
  {
   "cell_type": "code",
   "execution_count": 117,
   "metadata": {},
   "outputs": [],
   "source": [
    "import numpy as np # linear algebra\n",
    "import pandas as pd # data processing, CSV file I/O (e.g. pd.read_csv)\n"
   ]
  },
  {
   "attachments": {},
   "cell_type": "markdown",
   "metadata": {},
   "source": [
    "# Loading Datasets and Importing Libraries "
   ]
  },
  {
   "cell_type": "code",
   "execution_count": 118,
   "metadata": {},
   "outputs": [],
   "source": [
    "# Importing Tensorflow and the required visualization libraries\n",
    "import tensorflow as tf\n",
    "tf.config.run_functions_eagerly(True)\n",
    "import matplotlib.pyplot as plt\n",
    "%matplotlib inline\n",
    "import seaborn as sns\n",
    "\n",
    "#Loading the Dataset\n",
    "train = pd.read_csv('train.csv')\n",
    "test = pd.read_csv('test.csv')\n"
   ]
  },
  {
   "cell_type": "code",
   "execution_count": 119,
   "metadata": {},
   "outputs": [],
   "source": [
    "# Seperating the independent feature as y\n",
    "y = train['label']\n",
    "train = train.drop('label', axis =1)"
   ]
  },
  {
   "attachments": {},
   "cell_type": "markdown",
   "metadata": {},
   "source": [
    "# Visualizing Data"
   ]
  },
  {
   "cell_type": "code",
   "execution_count": 120,
   "metadata": {},
   "outputs": [
    {
     "name": "stderr",
     "output_type": "stream",
     "text": [
      "c:\\Users\\voxua\\AppData\\Local\\Programs\\Python\\Python310\\lib\\site-packages\\seaborn\\_decorators.py:36: FutureWarning: Pass the following variable as a keyword arg: x. From version 0.12, the only valid positional argument will be `data`, and passing other arguments without an explicit keyword will result in an error or misinterpretation.\n",
      "  warnings.warn(\n"
     ]
    },
    {
     "data": {
      "text/plain": [
       "<AxesSubplot:xlabel='label', ylabel='count'>"
      ]
     },
     "execution_count": 120,
     "metadata": {},
     "output_type": "execute_result"
    },
    {
     "data": {
      "image/png": "[encoded data removed]",
      "text/plain": [
       "<Figure size 432x288 with 1 Axes>"
      ]
     },
     "metadata": {
      "needs_background": "light"
     },
     "output_type": "display_data"
    }
   ],
   "source": [
    "#Visualizing the Distribution of digits in labels\n",
    "sns.countplot(y)"
   ]
  },
  {
   "cell_type": "code",
   "execution_count": 121,
   "metadata": {},
   "outputs": [
    {
     "data": {
      "image/png": "[encoded data removed]",
      "text/plain": [
       "<Figure size 432x288 with 1 Axes>"
      ]
     },
     "metadata": {
      "needs_background": "light"
     },
     "output_type": "display_data"
    }
   ],
   "source": [
    "#Visualing an example \n",
    "img = train.iloc[10].to_numpy()\n",
    "img = img.reshape((28,28))\n",
    "plt.imshow(img,cmap='gray')\n",
    "plt.title(y.iloc[10])\n",
    "plt.axis(\"off\")\n",
    "plt.show()"
   ]
  },
  {
   "attachments": {},
   "cell_type": "markdown",
   "metadata": {},
   "source": [
    "# Preprocessing Data"
   ]
  },
  {
   "cell_type": "code",
   "execution_count": 122,
   "metadata": {},
   "outputs": [],
   "source": [
    "#Preprocessing the Data\n",
    "train=train/225.0\n",
    "test = test/225.0\n",
    "train = np.array(train)\n",
    "test= np.array(test)\n",
    "train = train.reshape(train.shape[0], 28, 28,1)\n",
    "test = test.reshape(test.shape[0], 28, 28,1)\n",
    "\n",
    "#Splitting the data into training and validation \n",
    "from sklearn.model_selection import train_test_split\n",
    "X_train, X_val, Y_train, Y_val = train_test_split(train, y, test_size=0.2)\n",
    "\n",
    "#Converting the train and validation labels to one-hot encodings\n",
    "Y_train = tf.keras.utils.to_categorical(Y_train, num_classes=10)\n",
    "Y_val = tf.keras.utils.to_categorical(Y_val, num_classes=10)"
   ]
  },
  {
   "attachments": {},
   "cell_type": "markdown",
   "metadata": {},
   "source": [
    "# Building, Compiling and Training model\n"
   ]
  },
  {
   "cell_type": "code",
   "execution_count": 123,
   "metadata": {},
   "outputs": [],
   "source": [
    "#Preparing a CNN model architecture\n",
    "model = tf.keras.models.Sequential([\n",
    "            tf.keras.layers.Conv2D(32, (5,5), activation='relu', kernel_initializer='he_uniform',input_shape=(28, 28, 1)),\n",
    "            tf.keras.layers.MaxPooling2D(2, 2),\n",
    "            tf.keras.layers.Dropout(0.2),\n",
    "            tf.keras.layers.Conv2D(64, (5,5), activation='relu'),\n",
    "            tf.keras.layers.MaxPooling2D(2, 2),    \n",
    "            tf.keras.layers.Dropout(0.25),\n",
    "            tf.keras.layers.Flatten(),\n",
    "            tf.keras.layers.Dense(128, activation='relu'),\n",
    "            tf.keras.layers.BatchNormalization(),\n",
    "            tf.keras.layers.Dense(10, activation='softmax')\n",
    "    ])"
   ]
  },
  {
   "cell_type": "code",
   "execution_count": 124,
   "metadata": {},
   "outputs": [
    {
     "name": "stderr",
     "output_type": "stream",
     "text": [
      "c:\\Users\\voxua\\AppData\\Local\\Programs\\Python\\Python310\\lib\\site-packages\\keras\\optimizers\\optimizer_v2\\gradient_descent.py:108: UserWarning: The `lr` argument is deprecated, use `learning_rate` instead.\n",
      "  super(SGD, self).__init__(name, **kwargs)\n"
     ]
    }
   ],
   "source": [
    "#Compiling the model\n",
    "model.compile(optimizer= tf.keras.optimizers.SGD(lr=0.1, momentum=0.9), loss='categorical_crossentropy', metrics=['accuracy'])"
   ]
  },
  {
   "cell_type": "code",
   "execution_count": 125,
   "metadata": {},
   "outputs": [],
   "source": [
    "#Data augmentation to prevent overfitting\n",
    "datagen = tf.keras.preprocessing.image.ImageDataGenerator(\n",
    "        rotation_range=30, \n",
    "        zoom_range = 0.2, \n",
    "        width_shift_range=0.1,  \n",
    "        height_shift_range=0.1,)  "
   ]
  },
  {
   "cell_type": "code",
   "execution_count": 126,
   "metadata": {},
   "outputs": [
    {
     "name": "stderr",
     "output_type": "stream",
     "text": [
      "c:\\Users\\voxua\\AppData\\Local\\Programs\\Python\\Python310\\lib\\site-packages\\tensorflow\\python\\data\\ops\\structured_function.py:264: UserWarning: Even though the `tf.config.experimental_run_functions_eagerly` option is set, this option does not apply to tf.data functions. To force eager execution of tf.data functions, please use `tf.data.experimental.enable_debug_mode()`.\n",
      "  warnings.warn(\n"
     ]
    },
    {
     "name": "stdout",
     "output_type": "stream",
     "text": [
      "Epoch 1/15\n",
      "525/525 [==============================] - 41s 78ms/step - loss: 0.2285 - accuracy: 0.9265 - val_loss: 0.0887 - val_accuracy: 0.9702\n",
      "Epoch 2/15\n",
      "525/525 [==============================] - 41s 78ms/step - loss: 0.0797 - accuracy: 0.9751 - val_loss: 0.0846 - val_accuracy: 0.9773\n",
      "Epoch 3/15\n",
      "525/525 [==============================] - 41s 78ms/step - loss: 0.0572 - accuracy: 0.9818 - val_loss: 0.0504 - val_accuracy: 0.9851\n",
      "Epoch 4/15\n",
      "525/525 [==============================] - 40s 77ms/step - loss: 0.0461 - accuracy: 0.9851 - val_loss: 0.0487 - val_accuracy: 0.9844\n",
      "Epoch 5/15\n",
      "525/525 [==============================] - 37s 70ms/step - loss: 0.0409 - accuracy: 0.9871 - val_loss: 0.0406 - val_accuracy: 0.9890\n",
      "Epoch 6/15\n",
      "525/525 [==============================] - 37s 70ms/step - loss: 0.0341 - accuracy: 0.9885 - val_loss: 0.0438 - val_accuracy: 0.9887\n",
      "Epoch 7/15\n",
      "525/525 [==============================] - 37s 70ms/step - loss: 0.0352 - accuracy: 0.9874 - val_loss: 0.0379 - val_accuracy: 0.9896\n",
      "Epoch 8/15\n",
      "525/525 [==============================] - 37s 71ms/step - loss: 0.0271 - accuracy: 0.9911 - val_loss: 0.0380 - val_accuracy: 0.9896\n",
      "Epoch 9/15\n",
      "525/525 [==============================] - 42s 80ms/step - loss: 0.0297 - accuracy: 0.9905 - val_loss: 0.0351 - val_accuracy: 0.9908\n",
      "Epoch 10/15\n",
      "525/525 [==============================] - 40s 77ms/step - loss: 0.0226 - accuracy: 0.9924 - val_loss: 0.0357 - val_accuracy: 0.9901\n",
      "Epoch 11/15\n",
      "525/525 [==============================] - 39s 74ms/step - loss: 0.0211 - accuracy: 0.9922 - val_loss: 0.0382 - val_accuracy: 0.9907\n",
      "Epoch 12/15\n",
      "525/525 [==============================] - 39s 74ms/step - loss: 0.0205 - accuracy: 0.9932 - val_loss: 0.0331 - val_accuracy: 0.9911\n",
      "Epoch 13/15\n",
      "525/525 [==============================] - 39s 74ms/step - loss: 0.0171 - accuracy: 0.9944 - val_loss: 0.0356 - val_accuracy: 0.9902\n",
      "Epoch 14/15\n",
      "525/525 [==============================] - 39s 74ms/step - loss: 0.0183 - accuracy: 0.9936 - val_loss: 0.0344 - val_accuracy: 0.9913\n",
      "Epoch 15/15\n",
      "525/525 [==============================] - 39s 74ms/step - loss: 0.0168 - accuracy: 0.9951 - val_loss: 0.0341 - val_accuracy: 0.9906\n"
     ]
    }
   ],
   "source": [
    "#Training the model without data augmentation\n",
    "history = model.fit(X_train, Y_train, batch_size=64, epochs=15, validation_data=(X_val, Y_val))"
   ]
  },
  {
   "attachments": {},
   "cell_type": "markdown",
   "metadata": {},
   "source": [
    "# Evaluating Results"
   ]
  },
  {
   "cell_type": "code",
   "execution_count": 127,
   "metadata": {},
   "outputs": [
    {
     "data": {
      "image/png": "[encoded data removed]",
      "text/plain": [
       "<Figure size 432x288 with 1 Axes>"
      ]
     },
     "metadata": {
      "needs_background": "light"
     },
     "output_type": "display_data"
    },
    {
     "data": {
      "image/png": "[encoded data removed]",
      "text/plain": [
       "<Figure size 432x288 with 1 Axes>"
      ]
     },
     "metadata": {
      "needs_background": "light"
     },
     "output_type": "display_data"
    }
   ],
   "source": [
    "#Comparing losses and accuraries \n",
    "plt.plot(history.history['loss'], color='r')\n",
    "plt.plot(history.history['val_loss'], color='b')\n",
    "plt.show()\n",
    "plt.plot(history.history['accuracy'], color='r')\n",
    "plt.plot(history.history['val_accuracy'], color='b')\n",
    "plt.show()"
   ]
  },
  {
   "cell_type": "code",
   "execution_count": 128,
   "metadata": {},
   "outputs": [
    {
     "name": "stdout",
     "output_type": "stream",
     "text": [
      "263/263 [==============================] - 4s 14ms/step\n",
      "[[852   0   1   1   0   0   0   0   2   0]\n",
      " [  0 912   4   0   0   0   1   0   0   0]\n",
      " [  0   0 795   3   0   0   0   2   0   0]\n",
      " [  0   0   4 845   0   0   0   0   4   2]\n",
      " [  0   0   0   0 795   0   2   0   0   6]\n",
      " [  1   0   0   9   0 766   0   1   0   0]\n",
      " [  2   0   0   0   0   2 829   0   0   0]\n",
      " [  1   1   3   0   1   0   0 888   0   0]\n",
      " [  1   1   1   2   0   2   0   1 824   2]\n",
      " [  3   0   1   1   4   2   0   3   2 815]]\n"
     ]
    }
   ],
   "source": [
    "#Plotting Confusion Matrix\n",
    "y_pred1 = model.predict(X_val)\n",
    "y_pred1 = np.argmax(y_pred1, axis=1)\n",
    "y_true = np.argmax(Y_val, axis=1)\n",
    "from sklearn.metrics import confusion_matrix\n",
    "cm = confusion_matrix(y_true, y_pred1)\n",
    "print(cm)"
   ]
  },
  {
   "attachments": {},
   "cell_type": "markdown",
   "metadata": {},
   "source": [
    "# Saving the Predictions"
   ]
  },
  {
   "cell_type": "code",
   "execution_count": 129,
   "metadata": {},
   "outputs": [
    {
     "name": "stdout",
     "output_type": "stream",
     "text": [
      "  9/875 [..............................] - ETA: 11s"
     ]
    },
    {
     "name": "stderr",
     "output_type": "stream",
     "text": [
      "c:\\Users\\voxua\\AppData\\Local\\Programs\\Python\\Python310\\lib\\site-packages\\tensorflow\\python\\data\\ops\\structured_function.py:264: UserWarning: Even though the `tf.config.experimental_run_functions_eagerly` option is set, this option does not apply to tf.data functions. To force eager execution of tf.data functions, please use `tf.data.experimental.enable_debug_mode()`.\n",
      "  warnings.warn(\n"
     ]
    },
    {
     "name": "stdout",
     "output_type": "stream",
     "text": [
      "875/875 [==============================] - 12s 14ms/step\n"
     ]
    }
   ],
   "source": [
    "#Predicting and Saving it as a CSV file\n",
    "y_pred = model.predict(test)\n",
    "y_pred = np.argmax(y_pred, axis=1)\n",
    "y_pred = pd.Series(y_pred, name='Label')\n",
    "sub = pd.concat([pd.Series(range(1, 28001), name=\"ImageId\"), y_pred], axis=1)\n",
    "sub.to_csv('RESULT.csv', index=False)"
   ]
  }
 ],
 "metadata": {
  "kernelspec": {
   "display_name": "Python 3",
   "language": "python",
   "name": "python3"
  },
  "language_info": {
   "codemirror_mode": {
    "name": "ipython",
    "version": 3
   },
   "file_extension": ".py",
   "mimetype": "text/x-python",
   "name": "python",
   "nbconvert_exporter": "python",
   "pygments_lexer": "ipython3",
   "version": "3.10.4"
  },
  "orig_nbformat": 4
 },
 "nbformat": 4,
 "nbformat_minor": 2
}
