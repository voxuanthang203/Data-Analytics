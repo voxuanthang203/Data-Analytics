{
 "cells": [
  {
   "cell_type": "code",
   "execution_count": 15,
   "metadata": {},
   "outputs": [],
   "source": [
    "# import necessary libraries\n",
    "import numpy as np\n",
    "import pandas as pd\n",
    "import matplotlib.pyplot as plt\n",
    "from sklearn.preprocessing import MinMaxScaler\n",
    "from keras.models import Sequential\n",
    "from keras.layers import Dense, LSTM"
   ]
  },
  {
   "cell_type": "code",
   "execution_count": 16,
   "metadata": {},
   "outputs": [],
   "source": [
    "# fix random seed for reproducibility\n",
    "np.random.seed(0)"
   ]
  },
  {
   "cell_type": "code",
   "execution_count": 17,
   "metadata": {},
   "outputs": [],
   "source": [
    "# load data and drop the date column\n",
    "dataset = pd.read_csv(\"airline-passengers.csv\", usecols=[1], engine='python')\n",
    "\n",
    "# convert integers to floats\n",
    "dataset = dataset.astype('float32')"
   ]
  },
  {
   "cell_type": "code",
   "execution_count": 18,
   "metadata": {},
   "outputs": [],
   "source": [
    "# normalize the dataset to range (0,1)\n",
    "scaler = MinMaxScaler(feature_range=(0, 1))\n",
    "dataset = scaler.fit_transform(dataset)"
   ]
  },
  {
   "cell_type": "code",
   "execution_count": 19,
   "metadata": {},
   "outputs": [],
   "source": [
    "# split into train and test sets\n",
    "train_size = int(len(dataset) * 0.67)\n",
    "test_size = len(dataset) - train_size\n",
    "train, test = dataset[0:train_size, :], dataset[train_size:len(dataset), :]"
   ]
  },
  {
   "cell_type": "code",
   "execution_count": 20,
   "metadata": {},
   "outputs": [],
   "source": [
    "# create input-output pairs for LSTM\n",
    "def create_dataset(dataset, look_back=1):\n",
    "    dataX, dataY = [], []\n",
    "    for i in range(len(dataset)-look_back):\n",
    "        a = dataset[i:(i+look_back), 0]\n",
    "        dataX.append(a)\n",
    "        dataY.append(dataset[i + look_back, 0])\n",
    "    return np.array(dataX), np.array(dataY)"
   ]
  },
  {
   "cell_type": "code",
   "execution_count": 21,
   "metadata": {},
   "outputs": [],
   "source": [
    "# reshape input to be [samples, time steps, features]\n",
    "look_back = 3\n",
    "trainX, trainY = create_dataset(train, look_back)\n",
    "testX, testY = create_dataset(test, look_back)\n",
    "trainX = np.reshape(trainX, (trainX.shape[0], 1, trainX.shape[1]))\n",
    "testX = np.reshape(testX, (testX.shape[0], 1, testX.shape[1]))"
   ]
  },
  {
   "cell_type": "code",
   "execution_count": 22,
   "metadata": {},
   "outputs": [
    {
     "name": "stdout",
     "output_type": "stream",
     "text": [
      "Epoch 1/100\n",
      "93/93 - 1s - loss: 0.1081 - 711ms/epoch - 8ms/step\n",
      "Epoch 2/100\n",
      "93/93 - 0s - loss: 0.0379 - 121ms/epoch - 1ms/step\n",
      "Epoch 3/100\n",
      "93/93 - 0s - loss: 0.0210 - 114ms/epoch - 1ms/step\n",
      "Epoch 4/100\n",
      "93/93 - 0s - loss: 0.0177 - 117ms/epoch - 1ms/step\n",
      "Epoch 5/100\n",
      "93/93 - 0s - loss: 0.0166 - 103ms/epoch - 1ms/step\n",
      "Epoch 6/100\n",
      "93/93 - 0s - loss: 0.0159 - 112ms/epoch - 1ms/step\n",
      "Epoch 7/100\n",
      "93/93 - 0s - loss: 0.0155 - 105ms/epoch - 1ms/step\n",
      "Epoch 8/100\n",
      "93/93 - 0s - loss: 0.0148 - 110ms/epoch - 1ms/step\n",
      "Epoch 9/100\n",
      "93/93 - 0s - loss: 0.0142 - 107ms/epoch - 1ms/step\n",
      "Epoch 10/100\n",
      "93/93 - 0s - loss: 0.0138 - 115ms/epoch - 1ms/step\n",
      "Epoch 11/100\n",
      "93/93 - 0s - loss: 0.0132 - 113ms/epoch - 1ms/step\n",
      "Epoch 12/100\n",
      "93/93 - 0s - loss: 0.0126 - 109ms/epoch - 1ms/step\n",
      "Epoch 13/100\n",
      "93/93 - 0s - loss: 0.0122 - 113ms/epoch - 1ms/step\n",
      "Epoch 14/100\n",
      "93/93 - 0s - loss: 0.0117 - 116ms/epoch - 1ms/step\n",
      "Epoch 15/100\n",
      "93/93 - 0s - loss: 0.0111 - 112ms/epoch - 1ms/step\n",
      "Epoch 16/100\n",
      "93/93 - 0s - loss: 0.0107 - 109ms/epoch - 1ms/step\n",
      "Epoch 17/100\n",
      "93/93 - 0s - loss: 0.0102 - 110ms/epoch - 1ms/step\n",
      "Epoch 18/100\n",
      "93/93 - 0s - loss: 0.0098 - 107ms/epoch - 1ms/step\n",
      "Epoch 19/100\n",
      "93/93 - 0s - loss: 0.0094 - 109ms/epoch - 1ms/step\n",
      "Epoch 20/100\n",
      "93/93 - 0s - loss: 0.0091 - 108ms/epoch - 1ms/step\n",
      "Epoch 21/100\n",
      "93/93 - 0s - loss: 0.0086 - 109ms/epoch - 1ms/step\n",
      "Epoch 22/100\n",
      "93/93 - 0s - loss: 0.0083 - 110ms/epoch - 1ms/step\n",
      "Epoch 23/100\n",
      "93/93 - 0s - loss: 0.0079 - 109ms/epoch - 1ms/step\n",
      "Epoch 24/100\n",
      "93/93 - 0s - loss: 0.0076 - 108ms/epoch - 1ms/step\n",
      "Epoch 25/100\n",
      "93/93 - 0s - loss: 0.0072 - 105ms/epoch - 1ms/step\n",
      "Epoch 26/100\n",
      "93/93 - 0s - loss: 0.0070 - 118ms/epoch - 1ms/step\n",
      "Epoch 27/100\n",
      "93/93 - 0s - loss: 0.0068 - 109ms/epoch - 1ms/step\n",
      "Epoch 28/100\n",
      "93/93 - 0s - loss: 0.0064 - 112ms/epoch - 1ms/step\n",
      "Epoch 29/100\n",
      "93/93 - 0s - loss: 0.0063 - 113ms/epoch - 1ms/step\n",
      "Epoch 30/100\n",
      "93/93 - 0s - loss: 0.0059 - 112ms/epoch - 1ms/step\n",
      "Epoch 31/100\n",
      "93/93 - 0s - loss: 0.0058 - 112ms/epoch - 1ms/step\n",
      "Epoch 32/100\n",
      "93/93 - 0s - loss: 0.0057 - 109ms/epoch - 1ms/step\n",
      "Epoch 33/100\n",
      "93/93 - 0s - loss: 0.0054 - 113ms/epoch - 1ms/step\n",
      "Epoch 34/100\n",
      "93/93 - 0s - loss: 0.0052 - 115ms/epoch - 1ms/step\n",
      "Epoch 35/100\n",
      "93/93 - 0s - loss: 0.0051 - 114ms/epoch - 1ms/step\n",
      "Epoch 36/100\n",
      "93/93 - 0s - loss: 0.0049 - 113ms/epoch - 1ms/step\n",
      "Epoch 37/100\n",
      "93/93 - 0s - loss: 0.0049 - 102ms/epoch - 1ms/step\n",
      "Epoch 38/100\n",
      "93/93 - 0s - loss: 0.0047 - 109ms/epoch - 1ms/step\n",
      "Epoch 39/100\n",
      "93/93 - 0s - loss: 0.0046 - 113ms/epoch - 1ms/step\n",
      "Epoch 40/100\n",
      "93/93 - 0s - loss: 0.0044 - 114ms/epoch - 1ms/step\n",
      "Epoch 41/100\n",
      "93/93 - 0s - loss: 0.0044 - 114ms/epoch - 1ms/step\n",
      "Epoch 42/100\n",
      "93/93 - 0s - loss: 0.0043 - 115ms/epoch - 1ms/step\n",
      "Epoch 43/100\n",
      "93/93 - 0s - loss: 0.0042 - 113ms/epoch - 1ms/step\n",
      "Epoch 44/100\n",
      "93/93 - 0s - loss: 0.0041 - 107ms/epoch - 1ms/step\n",
      "Epoch 45/100\n",
      "93/93 - 0s - loss: 0.0040 - 107ms/epoch - 1ms/step\n",
      "Epoch 46/100\n",
      "93/93 - 0s - loss: 0.0040 - 106ms/epoch - 1ms/step\n",
      "Epoch 47/100\n",
      "93/93 - 0s - loss: 0.0039 - 107ms/epoch - 1ms/step\n",
      "Epoch 48/100\n",
      "93/93 - 0s - loss: 0.0039 - 110ms/epoch - 1ms/step\n",
      "Epoch 49/100\n",
      "93/93 - 0s - loss: 0.0039 - 107ms/epoch - 1ms/step\n",
      "Epoch 50/100\n",
      "93/93 - 0s - loss: 0.0038 - 115ms/epoch - 1ms/step\n",
      "Epoch 51/100\n",
      "93/93 - 0s - loss: 0.0038 - 112ms/epoch - 1ms/step\n",
      "Epoch 52/100\n",
      "93/93 - 0s - loss: 0.0038 - 112ms/epoch - 1ms/step\n",
      "Epoch 53/100\n",
      "93/93 - 0s - loss: 0.0037 - 106ms/epoch - 1ms/step\n",
      "Epoch 54/100\n",
      "93/93 - 0s - loss: 0.0038 - 114ms/epoch - 1ms/step\n",
      "Epoch 55/100\n",
      "93/93 - 0s - loss: 0.0036 - 107ms/epoch - 1ms/step\n",
      "Epoch 56/100\n",
      "93/93 - 0s - loss: 0.0037 - 110ms/epoch - 1ms/step\n",
      "Epoch 57/100\n",
      "93/93 - 0s - loss: 0.0035 - 106ms/epoch - 1ms/step\n",
      "Epoch 58/100\n",
      "93/93 - 0s - loss: 0.0036 - 114ms/epoch - 1ms/step\n",
      "Epoch 59/100\n",
      "93/93 - 0s - loss: 0.0038 - 114ms/epoch - 1ms/step\n",
      "Epoch 60/100\n",
      "93/93 - 0s - loss: 0.0035 - 107ms/epoch - 1ms/step\n",
      "Epoch 61/100\n",
      "93/93 - 0s - loss: 0.0035 - 107ms/epoch - 1ms/step\n",
      "Epoch 62/100\n",
      "93/93 - 0s - loss: 0.0035 - 102ms/epoch - 1ms/step\n",
      "Epoch 63/100\n",
      "93/93 - 0s - loss: 0.0035 - 106ms/epoch - 1ms/step\n",
      "Epoch 64/100\n",
      "93/93 - 0s - loss: 0.0036 - 114ms/epoch - 1ms/step\n",
      "Epoch 65/100\n",
      "93/93 - 0s - loss: 0.0035 - 132ms/epoch - 1ms/step\n",
      "Epoch 66/100\n",
      "93/93 - 0s - loss: 0.0035 - 105ms/epoch - 1ms/step\n",
      "Epoch 67/100\n",
      "93/93 - 0s - loss: 0.0035 - 110ms/epoch - 1ms/step\n",
      "Epoch 68/100\n",
      "93/93 - 0s - loss: 0.0035 - 101ms/epoch - 1ms/step\n",
      "Epoch 69/100\n",
      "93/93 - 0s - loss: 0.0035 - 108ms/epoch - 1ms/step\n",
      "Epoch 70/100\n",
      "93/93 - 0s - loss: 0.0035 - 107ms/epoch - 1ms/step\n",
      "Epoch 71/100\n",
      "93/93 - 0s - loss: 0.0034 - 104ms/epoch - 1ms/step\n",
      "Epoch 72/100\n",
      "93/93 - 0s - loss: 0.0034 - 104ms/epoch - 1ms/step\n",
      "Epoch 73/100\n",
      "93/93 - 0s - loss: 0.0034 - 108ms/epoch - 1ms/step\n",
      "Epoch 74/100\n",
      "93/93 - 0s - loss: 0.0034 - 107ms/epoch - 1ms/step\n",
      "Epoch 75/100\n",
      "93/93 - 0s - loss: 0.0034 - 108ms/epoch - 1ms/step\n",
      "Epoch 76/100\n",
      "93/93 - 0s - loss: 0.0034 - 107ms/epoch - 1ms/step\n",
      "Epoch 77/100\n",
      "93/93 - 0s - loss: 0.0034 - 111ms/epoch - 1ms/step\n",
      "Epoch 78/100\n",
      "93/93 - 0s - loss: 0.0034 - 107ms/epoch - 1ms/step\n",
      "Epoch 79/100\n",
      "93/93 - 0s - loss: 0.0035 - 110ms/epoch - 1ms/step\n",
      "Epoch 80/100\n",
      "93/93 - 0s - loss: 0.0034 - 106ms/epoch - 1ms/step\n",
      "Epoch 81/100\n",
      "93/93 - 0s - loss: 0.0033 - 111ms/epoch - 1ms/step\n",
      "Epoch 82/100\n",
      "93/93 - 0s - loss: 0.0034 - 104ms/epoch - 1ms/step\n",
      "Epoch 83/100\n",
      "93/93 - 0s - loss: 0.0034 - 108ms/epoch - 1ms/step\n",
      "Epoch 84/100\n",
      "93/93 - 0s - loss: 0.0034 - 106ms/epoch - 1ms/step\n",
      "Epoch 85/100\n",
      "93/93 - 0s - loss: 0.0033 - 107ms/epoch - 1ms/step\n",
      "Epoch 86/100\n",
      "93/93 - 0s - loss: 0.0034 - 107ms/epoch - 1ms/step\n",
      "Epoch 87/100\n",
      "93/93 - 0s - loss: 0.0033 - 109ms/epoch - 1ms/step\n",
      "Epoch 88/100\n",
      "93/93 - 0s - loss: 0.0033 - 113ms/epoch - 1ms/step\n",
      "Epoch 89/100\n",
      "93/93 - 0s - loss: 0.0031 - 105ms/epoch - 1ms/step\n",
      "Epoch 90/100\n",
      "93/93 - 0s - loss: 0.0034 - 108ms/epoch - 1ms/step\n",
      "Epoch 91/100\n",
      "93/93 - 0s - loss: 0.0034 - 110ms/epoch - 1ms/step\n",
      "Epoch 92/100\n",
      "93/93 - 0s - loss: 0.0034 - 113ms/epoch - 1ms/step\n",
      "Epoch 93/100\n",
      "93/93 - 0s - loss: 0.0033 - 106ms/epoch - 1ms/step\n",
      "Epoch 94/100\n",
      "93/93 - 0s - loss: 0.0032 - 115ms/epoch - 1ms/step\n",
      "Epoch 95/100\n",
      "93/93 - 0s - loss: 0.0032 - 107ms/epoch - 1ms/step\n",
      "Epoch 96/100\n",
      "93/93 - 0s - loss: 0.0033 - 108ms/epoch - 1ms/step\n",
      "Epoch 97/100\n",
      "93/93 - 0s - loss: 0.0032 - 115ms/epoch - 1ms/step\n",
      "Epoch 98/100\n",
      "93/93 - 0s - loss: 0.0032 - 112ms/epoch - 1ms/step\n",
      "Epoch 99/100\n",
      "93/93 - 0s - loss: 0.0032 - 112ms/epoch - 1ms/step\n",
      "Epoch 100/100\n",
      "93/93 - 0s - loss: 0.0032 - 108ms/epoch - 1ms/step\n"
     ]
    },
    {
     "data": {
      "text/plain": [
       "<keras.callbacks.History at 0x1cb11b62290>"
      ]
     },
     "execution_count": 22,
     "metadata": {},
     "output_type": "execute_result"
    }
   ],
   "source": [
    "# create and fit the LSTM network\n",
    "model = Sequential()\n",
    "model.add(LSTM(4, input_shape=(1, look_back), activation='sigmoid'))\n",
    "model.add(Dense(1))\n",
    "model.compile(loss='mean_squared_error', optimizer='adam')\n",
    "model.fit(trainX, trainY, epochs=100, batch_size=1, verbose=2)"
   ]
  },
  {
   "cell_type": "code",
   "execution_count": 23,
   "metadata": {},
   "outputs": [
    {
     "name": "stdout",
     "output_type": "stream",
     "text": [
      "3/3 [==============================] - 0s 2ms/step\n",
      "2/2 [==============================] - 0s 2ms/step\n"
     ]
    }
   ],
   "source": [
    "# make predictions\n",
    "trainPredict = model.predict(trainX)\n",
    "testPredict = model.predict(testX)"
   ]
  },
  {
   "cell_type": "code",
   "execution_count": 24,
   "metadata": {},
   "outputs": [],
   "source": [
    "# invert predictions\n",
    "trainPredict = scaler.inverse_transform(trainPredict)\n",
    "trainY = scaler.inverse_transform([trainY])\n",
    "testPredict = scaler.inverse_transform(testPredict)\n",
    "testY = scaler.inverse_transform([testY])"
   ]
  },
  {
   "cell_type": "code",
   "execution_count": 25,
   "metadata": {},
   "outputs": [
    {
     "name": "stdout",
     "output_type": "stream",
     "text": [
      "Train Score: 95.16 RMSE\n",
      "Test Score: 94.37 RMSE\n"
     ]
    }
   ],
   "source": [
    "# calculate root mean squared error\n",
    "trainScore = np.sqrt(np.mean(np.square(trainY - trainPredict)))\n",
    "testScore = np.sqrt(np.mean(np.square(testY - testPredict)))\n",
    "print(f'Train Score: {trainScore:.2f} RMSE')\n",
    "print(f'Test Score: {testScore:.2f} RMSE')"
   ]
  },
  {
   "cell_type": "code",
   "execution_count": 26,
   "metadata": {},
   "outputs": [],
   "source": [
    "# shift train predictions for plotting\n",
    "trainPredictPlot = np.empty_like(dataset)\n",
    "trainPredictPlot[:, :] = np.nan\n",
    "trainPredictPlot[look_back:len(trainPredict)+look_back, :] = trainPredict"
   ]
  },
  {
   "cell_type": "code",
   "execution_count": 27,
   "metadata": {},
   "outputs": [],
   "source": [
    "# shift test predictions for plotting\n",
    "testPredictPlot = np.empty_like(dataset)\n",
    "testPredictPlot[:, :] = np.nan\n",
    "testPredictPlot[len(trainPredict)+(look_back*2):len(dataset), :] = testPredict"
   ]
  },
  {
   "cell_type": "code",
   "execution_count": 28,
   "metadata": {},
   "outputs": [
    {
     "data": {
      "image/png": "[encoded data removed]",
      "text/plain": [
       "<Figure size 432x288 with 1 Axes>"
      ]
     },
     "metadata": {
      "needs_background": "light"
     },
     "output_type": "display_data"
    }
   ],
   "source": [
    "# plot baseline and predictions\n",
    "actual = scaler.inverse_transform(dataset)\n",
    "plt.plot(actual, label='Actual')\n",
    "plt.plot(trainPredictPlot, label='Train Predictions')\n",
    "plt.plot(testPredictPlot, label='Test Predictions')\n",
    "plt.legend()\n",
    "plt.show()"
   ]
  }
 ],
 "metadata": {
  "kernelspec": {
   "display_name": "Python 3",
   "language": "python",
   "name": "python3"
  },
  "language_info": {
   "codemirror_mode": {
    "name": "ipython",
    "version": 3
   },
   "file_extension": ".py",
   "mimetype": "text/x-python",
   "name": "python",
   "nbconvert_exporter": "python",
   "pygments_lexer": "ipython3",
   "version": "3.10.4"
  },
  "orig_nbformat": 4
 },
 "nbformat": 4,
 "nbformat_minor": 2
}
