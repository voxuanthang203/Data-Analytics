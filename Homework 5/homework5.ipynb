{
 "cells": [
  {
   "cell_type": "code",
   "execution_count": 6,
   "metadata": {},
   "outputs": [],
   "source": [
    "#Import needed libraries\n",
    "import numpy as np\n",
    "import pandas as pd\n",
    "import matplotlib.pyplot as plt\n",
    "from sklearn.preprocessing import MinMaxScaler\n",
    "from keras.models import Sequential\n",
    "from keras.layers import Dense, LSTM"
   ]
  },
  {
   "cell_type": "code",
   "execution_count": 7,
   "metadata": {},
   "outputs": [],
   "source": [
    "#Load the dataset\n",
    "data = pd.read_csv('airline-passengers.csv', usecols=[1]).values.astype('float32')"
   ]
  },
  {
   "cell_type": "code",
   "execution_count": 8,
   "metadata": {},
   "outputs": [
    {
     "data": {
      "image/png": "[encoded data removed]",
      "text/plain": [
       "<Figure size 432x288 with 1 Axes>"
      ]
     },
     "metadata": {
      "needs_background": "light"
     },
     "output_type": "display_data"
    }
   ],
   "source": [
    "# Plot the time series\n",
    "plt.plot(data)\n",
    "plt.title('Monthly Airline Passengers')\n",
    "plt.xlabel('Month')\n",
    "plt.ylabel('Passengers (in thousands)')\n",
    "plt.show()"
   ]
  },
  {
   "attachments": {},
   "cell_type": "markdown",
   "metadata": {},
   "source": [
    "From the plot generated in part (a), we can observe both short-term and long-term temporal patterns in the data.\n",
    "\n",
    "- Short-term temporal patterns:\n",
    "\n",
    "We can observe that the number of airline passengers shows seasonality, with a repeating pattern that occurs within a year. Specifically, we can see that there is a peak in the summer months (around July-August) and a dip in the winter months (around January-February). This indicates that the number of airline passengers varies with the season.\n",
    "Additionally, we can see that there is some variation around the trend line, with some months having more passengers than expected (above the trend line) and some months having fewer passengers than expected (below the trend line). This variation may be due to factors such as holidays, events, or weather conditions that affect people's travel plans.\n",
    "\n",
    "- Long-term temporal patterns:\n",
    "\n",
    "We can see that the overall trend of the data is upward, indicating that the number of airline passengers has been increasing over time. This suggests that there has been growth in the airline industry, with more people traveling by air over the years.\n",
    "There are also some notable deviations from the trend, such as a dip in the mid-1950s, a plateau in the mid-1960s, and a slowdown in the early 1970s. These deviations may be due to factors such as economic conditions, changes in airline industry regulations, or other external events that affect travel behavior.\n",
    "Overall, the short-term and long-term temporal patterns in the data suggest that the number of airline passengers is affected by both seasonal and long-term factors, and that there is variability in the data that may be due to a range of internal and external factors."
   ]
  },
  {
   "cell_type": "code",
   "execution_count": 9,
   "metadata": {},
   "outputs": [],
   "source": [
    "# Normalize the data to range (0, 1)\n",
    "scaler = MinMaxScaler(feature_range=(0, 1))\n",
    "data = scaler.fit_transform(data)"
   ]
  },
  {
   "cell_type": "code",
   "execution_count": 10,
   "metadata": {},
   "outputs": [],
   "source": [
    "# Split the data into training and testing sets\n",
    "train_size = int(len(data) * 0.67)\n",
    "test_size = len(data) - train_size\n",
    "train, test = data[0:train_size,:], data[train_size:len(data),:]"
   ]
  },
  {
   "cell_type": "code",
   "execution_count": 11,
   "metadata": {},
   "outputs": [],
   "source": [
    "# Create the input-output dataset for LSTM\n",
    "def create_dataset(data):\n",
    "    dataX, dataY = [], []\n",
    "    for i in range(len(data)-1):\n",
    "        dataX.append(data[i])\n",
    "        dataY.append(data[i+1])\n",
    "    return np.array(dataX), np.array(dataY)"
   ]
  },
  {
   "cell_type": "code",
   "execution_count": 12,
   "metadata": {},
   "outputs": [],
   "source": [
    "trainX, trainY = create_dataset(train)\n",
    "testX, testY = create_dataset(test)"
   ]
  },
  {
   "cell_type": "code",
   "execution_count": 14,
   "metadata": {},
   "outputs": [],
   "source": [
    "# Reshape the input data to be in the [samples, time steps, features] format\n",
    "trainX = np.reshape(trainX, (trainX.shape[0], 1, trainX.shape[1]))\n",
    "testX = np.reshape(testX, (testX.shape[0], 1, testX.shape[1]))"
   ]
  },
  {
   "cell_type": "code",
   "execution_count": 15,
   "metadata": {},
   "outputs": [
    {
     "name": "stdout",
     "output_type": "stream",
     "text": [
      "Epoch 1/100\n",
      "95/95 - 1s - loss: 0.0223 - 824ms/epoch - 9ms/step\n",
      "Epoch 2/100\n",
      "95/95 - 0s - loss: 0.0210 - 109ms/epoch - 1ms/step\n",
      "Epoch 3/100\n",
      "95/95 - 0s - loss: 0.0205 - 113ms/epoch - 1ms/step\n",
      "Epoch 4/100\n",
      "95/95 - 0s - loss: 0.0202 - 130ms/epoch - 1ms/step\n",
      "Epoch 5/100\n",
      "95/95 - 0s - loss: 0.0199 - 134ms/epoch - 1ms/step\n",
      "Epoch 6/100\n",
      "95/95 - 0s - loss: 0.0199 - 135ms/epoch - 1ms/step\n",
      "Epoch 7/100\n",
      "95/95 - 0s - loss: 0.0196 - 133ms/epoch - 1ms/step\n",
      "Epoch 8/100\n",
      "95/95 - 0s - loss: 0.0194 - 121ms/epoch - 1ms/step\n",
      "Epoch 9/100\n",
      "95/95 - 0s - loss: 0.0191 - 140ms/epoch - 1ms/step\n",
      "Epoch 10/100\n",
      "95/95 - 0s - loss: 0.0190 - 139ms/epoch - 1ms/step\n",
      "Epoch 11/100\n",
      "95/95 - 0s - loss: 0.0187 - 130ms/epoch - 1ms/step\n",
      "Epoch 12/100\n",
      "95/95 - 0s - loss: 0.0186 - 114ms/epoch - 1ms/step\n",
      "Epoch 13/100\n",
      "95/95 - 0s - loss: 0.0183 - 128ms/epoch - 1ms/step\n",
      "Epoch 14/100\n",
      "95/95 - 0s - loss: 0.0179 - 164ms/epoch - 2ms/step\n",
      "Epoch 15/100\n",
      "95/95 - 0s - loss: 0.0178 - 142ms/epoch - 1ms/step\n",
      "Epoch 16/100\n",
      "95/95 - 0s - loss: 0.0175 - 138ms/epoch - 1ms/step\n",
      "Epoch 17/100\n",
      "95/95 - 0s - loss: 0.0172 - 132ms/epoch - 1ms/step\n",
      "Epoch 18/100\n",
      "95/95 - 0s - loss: 0.0169 - 135ms/epoch - 1ms/step\n",
      "Epoch 19/100\n",
      "95/95 - 0s - loss: 0.0166 - 136ms/epoch - 1ms/step\n",
      "Epoch 20/100\n",
      "95/95 - 0s - loss: 0.0162 - 135ms/epoch - 1ms/step\n",
      "Epoch 21/100\n",
      "95/95 - 0s - loss: 0.0160 - 134ms/epoch - 1ms/step\n",
      "Epoch 22/100\n",
      "95/95 - 0s - loss: 0.0155 - 112ms/epoch - 1ms/step\n",
      "Epoch 23/100\n",
      "95/95 - 0s - loss: 0.0152 - 115ms/epoch - 1ms/step\n",
      "Epoch 24/100\n",
      "95/95 - 0s - loss: 0.0149 - 118ms/epoch - 1ms/step\n",
      "Epoch 25/100\n",
      "95/95 - 0s - loss: 0.0146 - 108ms/epoch - 1ms/step\n",
      "Epoch 26/100\n",
      "95/95 - 0s - loss: 0.0141 - 108ms/epoch - 1ms/step\n",
      "Epoch 27/100\n",
      "95/95 - 0s - loss: 0.0140 - 107ms/epoch - 1ms/step\n",
      "Epoch 28/100\n",
      "95/95 - 0s - loss: 0.0137 - 112ms/epoch - 1ms/step\n",
      "Epoch 29/100\n",
      "95/95 - 0s - loss: 0.0131 - 121ms/epoch - 1ms/step\n",
      "Epoch 30/100\n",
      "95/95 - 0s - loss: 0.0128 - 111ms/epoch - 1ms/step\n",
      "Epoch 31/100\n",
      "95/95 - 0s - loss: 0.0122 - 111ms/epoch - 1ms/step\n",
      "Epoch 32/100\n",
      "95/95 - 0s - loss: 0.0118 - 119ms/epoch - 1ms/step\n",
      "Epoch 33/100\n",
      "95/95 - 0s - loss: 0.0114 - 118ms/epoch - 1ms/step\n",
      "Epoch 34/100\n",
      "95/95 - 0s - loss: 0.0111 - 113ms/epoch - 1ms/step\n",
      "Epoch 35/100\n",
      "95/95 - 0s - loss: 0.0106 - 121ms/epoch - 1ms/step\n",
      "Epoch 36/100\n",
      "95/95 - 0s - loss: 0.0102 - 122ms/epoch - 1ms/step\n",
      "Epoch 37/100\n",
      "95/95 - 0s - loss: 0.0096 - 106ms/epoch - 1ms/step\n",
      "Epoch 38/100\n",
      "95/95 - 0s - loss: 0.0093 - 109ms/epoch - 1ms/step\n",
      "Epoch 39/100\n",
      "95/95 - 0s - loss: 0.0089 - 109ms/epoch - 1ms/step\n",
      "Epoch 40/100\n",
      "95/95 - 0s - loss: 0.0084 - 107ms/epoch - 1ms/step\n",
      "Epoch 41/100\n",
      "95/95 - 0s - loss: 0.0080 - 105ms/epoch - 1ms/step\n",
      "Epoch 42/100\n",
      "95/95 - 0s - loss: 0.0076 - 111ms/epoch - 1ms/step\n",
      "Epoch 43/100\n",
      "95/95 - 0s - loss: 0.0072 - 111ms/epoch - 1ms/step\n",
      "Epoch 44/100\n",
      "95/95 - 0s - loss: 0.0068 - 110ms/epoch - 1ms/step\n",
      "Epoch 45/100\n",
      "95/95 - 0s - loss: 0.0066 - 116ms/epoch - 1ms/step\n",
      "Epoch 46/100\n",
      "95/95 - 0s - loss: 0.0061 - 116ms/epoch - 1ms/step\n",
      "Epoch 47/100\n",
      "95/95 - 0s - loss: 0.0058 - 110ms/epoch - 1ms/step\n",
      "Epoch 48/100\n",
      "95/95 - 0s - loss: 0.0055 - 113ms/epoch - 1ms/step\n",
      "Epoch 49/100\n",
      "95/95 - 0s - loss: 0.0051 - 116ms/epoch - 1ms/step\n",
      "Epoch 50/100\n",
      "95/95 - 0s - loss: 0.0049 - 121ms/epoch - 1ms/step\n",
      "Epoch 51/100\n",
      "95/95 - 0s - loss: 0.0046 - 122ms/epoch - 1ms/step\n",
      "Epoch 52/100\n",
      "95/95 - 0s - loss: 0.0043 - 119ms/epoch - 1ms/step\n",
      "Epoch 53/100\n",
      "95/95 - 0s - loss: 0.0042 - 118ms/epoch - 1ms/step\n",
      "Epoch 54/100\n",
      "95/95 - 0s - loss: 0.0038 - 121ms/epoch - 1ms/step\n",
      "Epoch 55/100\n",
      "95/95 - 0s - loss: 0.0036 - 120ms/epoch - 1ms/step\n",
      "Epoch 56/100\n",
      "95/95 - 0s - loss: 0.0034 - 109ms/epoch - 1ms/step\n",
      "Epoch 57/100\n",
      "95/95 - 0s - loss: 0.0032 - 111ms/epoch - 1ms/step\n",
      "Epoch 58/100\n",
      "95/95 - 0s - loss: 0.0031 - 115ms/epoch - 1ms/step\n",
      "Epoch 59/100\n",
      "95/95 - 0s - loss: 0.0029 - 130ms/epoch - 1ms/step\n",
      "Epoch 60/100\n",
      "95/95 - 0s - loss: 0.0028 - 133ms/epoch - 1ms/step\n",
      "Epoch 61/100\n",
      "95/95 - 0s - loss: 0.0026 - 142ms/epoch - 1ms/step\n",
      "Epoch 62/100\n",
      "95/95 - 0s - loss: 0.0026 - 130ms/epoch - 1ms/step\n",
      "Epoch 63/100\n",
      "95/95 - 0s - loss: 0.0025 - 116ms/epoch - 1ms/step\n",
      "Epoch 64/100\n",
      "95/95 - 0s - loss: 0.0024 - 116ms/epoch - 1ms/step\n",
      "Epoch 65/100\n",
      "95/95 - 0s - loss: 0.0023 - 114ms/epoch - 1ms/step\n",
      "Epoch 66/100\n",
      "95/95 - 0s - loss: 0.0023 - 109ms/epoch - 1ms/step\n",
      "Epoch 67/100\n",
      "95/95 - 0s - loss: 0.0023 - 115ms/epoch - 1ms/step\n",
      "Epoch 68/100\n",
      "95/95 - 0s - loss: 0.0022 - 126ms/epoch - 1ms/step\n",
      "Epoch 69/100\n",
      "95/95 - 0s - loss: 0.0022 - 173ms/epoch - 2ms/step\n",
      "Epoch 70/100\n",
      "95/95 - 0s - loss: 0.0021 - 168ms/epoch - 2ms/step\n",
      "Epoch 71/100\n",
      "95/95 - 0s - loss: 0.0021 - 123ms/epoch - 1ms/step\n",
      "Epoch 72/100\n",
      "95/95 - 0s - loss: 0.0021 - 132ms/epoch - 1ms/step\n",
      "Epoch 73/100\n",
      "95/95 - 0s - loss: 0.0021 - 142ms/epoch - 1ms/step\n",
      "Epoch 74/100\n",
      "95/95 - 0s - loss: 0.0021 - 145ms/epoch - 2ms/step\n",
      "Epoch 75/100\n",
      "95/95 - 0s - loss: 0.0020 - 144ms/epoch - 2ms/step\n",
      "Epoch 76/100\n",
      "95/95 - 0s - loss: 0.0021 - 147ms/epoch - 2ms/step\n",
      "Epoch 77/100\n",
      "95/95 - 0s - loss: 0.0020 - 162ms/epoch - 2ms/step\n",
      "Epoch 78/100\n",
      "95/95 - 0s - loss: 0.0020 - 121ms/epoch - 1ms/step\n",
      "Epoch 79/100\n",
      "95/95 - 0s - loss: 0.0020 - 109ms/epoch - 1ms/step\n",
      "Epoch 80/100\n",
      "95/95 - 0s - loss: 0.0020 - 107ms/epoch - 1ms/step\n",
      "Epoch 81/100\n",
      "95/95 - 0s - loss: 0.0020 - 128ms/epoch - 1ms/step\n",
      "Epoch 82/100\n",
      "95/95 - 0s - loss: 0.0020 - 151ms/epoch - 2ms/step\n",
      "Epoch 83/100\n",
      "95/95 - 0s - loss: 0.0020 - 113ms/epoch - 1ms/step\n",
      "Epoch 84/100\n",
      "95/95 - 0s - loss: 0.0020 - 116ms/epoch - 1ms/step\n",
      "Epoch 85/100\n",
      "95/95 - 0s - loss: 0.0020 - 122ms/epoch - 1ms/step\n",
      "Epoch 86/100\n",
      "95/95 - 0s - loss: 0.0020 - 127ms/epoch - 1ms/step\n",
      "Epoch 87/100\n",
      "95/95 - 0s - loss: 0.0021 - 139ms/epoch - 1ms/step\n",
      "Epoch 88/100\n",
      "95/95 - 0s - loss: 0.0021 - 137ms/epoch - 1ms/step\n",
      "Epoch 89/100\n",
      "95/95 - 0s - loss: 0.0020 - 120ms/epoch - 1ms/step\n",
      "Epoch 90/100\n",
      "95/95 - 0s - loss: 0.0020 - 114ms/epoch - 1ms/step\n",
      "Epoch 91/100\n",
      "95/95 - 0s - loss: 0.0020 - 107ms/epoch - 1ms/step\n",
      "Epoch 92/100\n",
      "95/95 - 0s - loss: 0.0020 - 113ms/epoch - 1ms/step\n",
      "Epoch 93/100\n",
      "95/95 - 0s - loss: 0.0020 - 113ms/epoch - 1ms/step\n",
      "Epoch 94/100\n",
      "95/95 - 0s - loss: 0.0019 - 124ms/epoch - 1ms/step\n",
      "Epoch 95/100\n",
      "95/95 - 0s - loss: 0.0020 - 108ms/epoch - 1ms/step\n",
      "Epoch 96/100\n",
      "95/95 - 0s - loss: 0.0020 - 103ms/epoch - 1ms/step\n",
      "Epoch 97/100\n",
      "95/95 - 0s - loss: 0.0020 - 104ms/epoch - 1ms/step\n",
      "Epoch 98/100\n",
      "95/95 - 0s - loss: 0.0020 - 123ms/epoch - 1ms/step\n",
      "Epoch 99/100\n",
      "95/95 - 0s - loss: 0.0020 - 168ms/epoch - 2ms/step\n",
      "Epoch 100/100\n",
      "95/95 - 0s - loss: 0.0020 - 130ms/epoch - 1ms/step\n"
     ]
    },
    {
     "data": {
      "text/plain": [
       "<keras.callbacks.History at 0x25a4720c7c0>"
      ]
     },
     "execution_count": 15,
     "metadata": {},
     "output_type": "execute_result"
    }
   ],
   "source": [
    "# Build the LSTM network\n",
    "model = Sequential()\n",
    "model.add(LSTM(4, input_shape=(1, 1), activation='sigmoid'))\n",
    "model.add(Dense(1))\n",
    "model.compile(loss='mean_squared_error', optimizer='adam')\n",
    "model.fit(trainX, trainY, epochs=100, batch_size=1, verbose=2)"
   ]
  },
  {
   "cell_type": "code",
   "execution_count": 16,
   "metadata": {},
   "outputs": [
    {
     "name": "stdout",
     "output_type": "stream",
     "text": [
      "3/3 [==============================] - 0s 2ms/step\n",
      "2/2 [==============================] - 0s 3ms/step\n"
     ]
    }
   ],
   "source": [
    "# Make predictions on the training and testing data\n",
    "trainPredict = scaler.inverse_transform(model.predict(trainX))\n",
    "testPredict = scaler.inverse_transform(model.predict(testX))"
   ]
  },
  {
   "cell_type": "code",
   "execution_count": 17,
   "metadata": {},
   "outputs": [
    {
     "name": "stdout",
     "output_type": "stream",
     "text": [
      "Train RMSE: 221.96\n",
      "Test RMSE: 386.51\n"
     ]
    }
   ],
   "source": [
    "# Calculate the root-mean-squared-error (RMSE)\n",
    "trainScore = np.sqrt(np.mean(np.square(trainY - trainPredict)))\n",
    "testScore = np.sqrt(np.mean(np.square(testY - testPredict)))\n",
    "print('Train RMSE: %.2f' % (trainScore))\n",
    "print('Test RMSE: %.2f' % (testScore))"
   ]
  },
  {
   "cell_type": "code",
   "execution_count": 18,
   "metadata": {},
   "outputs": [
    {
     "data": {
      "image/png": "[encoded data removed]",
      "text/plain": [
       "<Figure size 432x288 with 1 Axes>"
      ]
     },
     "metadata": {
      "needs_background": "light"
     },
     "output_type": "display_data"
    }
   ],
   "source": [
    "# Align and plot the actual and predicted values for the entire dataset\n",
    "dataPredict = np.empty_like(data)\n",
    "dataPredict[:, :] = np.nan\n",
    "dataPredict[1:len(trainPredict)+1, :] = trainPredict\n",
    "dataPredict[len(trainPredict)+2:len(dataPredict), :] = testPredict\n",
    "data = scaler.inverse_transform(data)\n",
    "dataPredict = scaler.inverse_transform(dataPredict)\n",
    "plt.plot(data)\n",
    "plt.plot(dataPredict)\n",
    "plt.title('Monthly Airline Passengers - Actual vs. Predicted')\n",
    "plt.xlabel('Month')\n",
    "plt.ylabel('Passengers (in thousands)')\n",
    "plt.show()"
   ]
  }
 ],
 "metadata": {
  "kernelspec": {
   "display_name": "Python 3",
   "language": "python",
   "name": "python3"
  },
  "language_info": {
   "codemirror_mode": {
    "name": "ipython",
    "version": 3
   },
   "file_extension": ".py",
   "mimetype": "text/x-python",
   "name": "python",
   "nbconvert_exporter": "python",
   "pygments_lexer": "ipython3",
   "version": "3.10.4"
  },
  "orig_nbformat": 4
 },
 "nbformat": 4,
 "nbformat_minor": 2
}
